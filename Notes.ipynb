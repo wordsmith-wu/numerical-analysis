{
 "cells": [
  {
   "cell_type": "markdown",
   "metadata": {},
   "source": [
    "# 浮点格式\n",
    "IEEE标准包含一组实数的二进制表示法。浮点数由三部组成：\n",
    "- 符号（+或-）\n",
    "- 尾数（一串有效数字）\n",
    "- 指数\n",
    "浮点数有3种常用的精度等级，即\n",
    "- 单精度\n",
    "- 双精度\n",
    "- 加上精度\n",
    "\n",
    "IEEE浮点数的正规化形式是\n",
    "$$\n",
    "\\pm 1.bbb...b \\times 2^p\n",
    "$$\n",
    "例如，十进制数9的二进制表示是1001，应该以\n",
    "$$\n",
    "+1.001 \\times 2^3\n",
    "$$\n",
    "这种形式存储。"
   ]
  },
  {
   "cell_type": "markdown",
   "metadata": {},
   "source": [
    "# Machine epsilon\n",
    "表示1与大于1的最小浮点数之间的差，记为 $\\epsilon _{match} $\n",
    "对于IEEE，双精度浮点标准为来说，\n",
    "$$\n",
    "\\epsilon _{match} = 2^{-52}\n",
    "$$"
   ]
  },
  {
   "cell_type": "markdown",
   "metadata": {},
   "source": [
    "# 机器表示\n",
    "对每个双精度浮点数指定8个字节或64个位存储其3个部分，它们具有如下形式\n",
    "$$\n",
    "se_1e_2...e_{11}b_1b_2...b_{52}\n",
    "$$"
   ]
  },
  {
   "cell_type": "code",
   "execution_count": null,
   "metadata": {
    "collapsed": true
   },
   "outputs": [],
   "source": []
  }
 ],
 "metadata": {
  "anaconda-cloud": {},
  "kernelspec": {
   "display_name": "Python [conda env:aind-dog]",
   "language": "python",
   "name": "conda-env-aind-dog-py"
  },
  "language_info": {
   "codemirror_mode": {
    "name": "ipython",
    "version": 3
   },
   "file_extension": ".py",
   "mimetype": "text/x-python",
   "name": "python",
   "nbconvert_exporter": "python",
   "pygments_lexer": "ipython3",
   "version": "3.5.3"
  }
 },
 "nbformat": 4,
 "nbformat_minor": 2
}
